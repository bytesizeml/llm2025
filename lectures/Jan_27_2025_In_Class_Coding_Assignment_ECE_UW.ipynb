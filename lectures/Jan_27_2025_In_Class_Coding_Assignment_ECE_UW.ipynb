{
  "cells": [
    {
      "cell_type": "markdown",
      "metadata": {
        "id": "QbEvgl3YSOmC"
      },
      "source": [
        "# Embeddings and Semantic Search (LLM 2025)\n",
        "# Part of LLM 2025 class at UW: https://bytesizeml.github.io/llm2025/\n",
        "\n",
        "## This in-class coding exercise is to get hands-on with embeddings and one of its obvious application: Semantic Search.\n",
        "\n",
        "Search is an area that a lot of companies have invested in. Any retail company has a search engine of its own to serve its products. But how many of them include semantics in search? Search is typically done through Tries. But when we bring semantics to search, the ball game entirely changes. Searching with semantics can help address tail queries whereas Trie searches are usually geared for head queries.\n",
        "One of the bottlenecks in including semantics in search is latency - The more sophisticated the search, the slower the search inference will be. This is why for semantic search, there is no one-stop solution in a real-world scenario. Even though we have ChatGPT to return amazing results with the right prompting, we know what the latency this will incur, thus making it less viable in this scenario :-)\n",
        "\n"
      ]
    },
    {
      "cell_type": "markdown",
      "metadata": {
        "id": "dg0heYL7caiR"
      },
      "source": [
        "## Install dependencies"
      ]
    },
    {
      "cell_type": "code",
      "execution_count": null,
      "metadata": {
        "id": "N6Bm6xCtcaHr"
      },
      "outputs": [],
      "source": [
        "!pip3 install sentence-transformers"
      ]
    },
    {
      "cell_type": "markdown",
      "metadata": {
        "id": "ry-6tsk5fkcI"
      },
      "source": [
        "## 1. Embeddings\n",
        "\n",
        "Work on developing an embeddings class that goes from the simple glove embeddings to the more intricate sentence transformer embeddings"
      ]
    },
    {
      "cell_type": "code",
      "execution_count": null,
      "metadata": {
        "id": "uUXmzPTJSRVM"
      },
      "outputs": [],
      "source": [
        "\"\"\"\n",
        "In this code block, you can develop a class for Embeddings -\n",
        "That can fetch embeddings of different kinds for the purpose of \"Semantic Search\"\n",
        "\"\"\"\n",
        "\n",
        "from sentence_transformers import SentenceTransformer\n",
        "\n",
        "class Embeddings:\n",
        "\n",
        "  def __init__(self):\n",
        "    \"\"\"\n",
        "    Initialize the class\n",
        "    \"\"\"\n",
        "    # Your code here\n",
        "    pass\n",
        "\n",
        "  def download_glove_embeddings(self):\n",
        "    \"\"\"\n",
        "    Download glove embeddings from web or from your gdrive if in optimized format\n",
        "    \"\"\"\n",
        "    # Implement your code here\n",
        "    # Download glove embeddings from the web - You can either do this through this code or\n",
        "    # do it manually\n",
        "    pass\n",
        "\n",
        "\n",
        "  def load_glove_embeddings(self, embedding_dimension):\n",
        "    # Implement your code here\n",
        "    # Load stored glove embeddings from your local device (laptop)\n",
        "    pass\n",
        "\n",
        "\n",
        "  def get_glove_embedding(self, word, embedding_dimension):\n",
        "    \"\"\"\n",
        "    Retrieve glove embedding of a specific dimension\n",
        "    \"\"\"\n",
        "\n",
        "    # Implement your code here\n",
        "\n",
        "    pass\n",
        "\n",
        "\n",
        "\n",
        "  def get_sentence_transformer_embedding(self, sentence, transformer_name=\"all-MiniLM-L6-v2\"):\n",
        "    \"\"\"\n",
        "    Encode a sentence using sentence transformer and return embedding\n",
        "    \"\"\"\n",
        "\n",
        "    sentenceTransformer = SentenceTransformer(transformer_name)\n",
        "\n",
        "    return sentenceTransformer.encode(sentence)\n",
        "\n",
        "\n",
        "\n",
        "  def get_averaged_glove_embeddings(self, sentence, embeddings_dict):\n",
        "\n",
        "    words = sentence.split(\" \")\n",
        "    glove_embedding = np.zeros(len(embeddings_dict[\"word\"]))\n",
        "\n",
        "    count_words = 0\n",
        "    for word in words:\n",
        "\n",
        "      ## Your Code HERE! (Average the word embeddings to get the sentence embedding)\n",
        "      ## Remember: The sentence embedding should have the same dimension as the word embedding!\n"
      ]
    },
    {
      "cell_type": "markdown",
      "metadata": {
        "id": "24b598R2c_0u"
      },
      "source": [
        "## 2. Search Class\n",
        "\n",
        "Implement a class with all the methods needed for search including cosine similarity"
      ]
    },
    {
      "cell_type": "code",
      "execution_count": 1,
      "metadata": {
        "id": "GrQEdNu7TZ5I"
      },
      "outputs": [],
      "source": [
        "import numpy.linalg as la\n",
        "import numpy as np\n",
        "\n",
        "class Search:\n",
        "\n",
        "  def __init__(self):\n",
        "    pass\n",
        "\n",
        "\n",
        "  def cosine_similarity(self, x, y):\n",
        "    \"\"\"\n",
        "    This method returns the cosine similarity between two vectors: x and y\n",
        "    \"\"\"\n",
        "\n",
        "    return np.dot(x,y)/max(la.norm(x)*la.norm(y),1e-3)\n",
        "\n",
        "  def get_topK_similar_categories(self, sentence, categories):\n",
        "    \"\"\"\n",
        "    Return the most similar categories to a given sentence -\n",
        "    This is a baseline implementation of a semantic search engine\n",
        "    \"\"\"\n",
        "\n",
        "    # Implement your code here\n",
        "    pass\n"
      ]
    },
    {
      "cell_type": "markdown",
      "metadata": {
        "id": "sNINKsVzeodG"
      },
      "source": [
        "## 3. Word Arithmetic\n",
        "\n",
        "Let's test your embeddings. Answer the question below through the search functionality you implemented above.\n",
        "I.e. you should use your Search class to return the answer by passing in relevant inputs for questions below"
      ]
    },
    {
      "cell_type": "code",
      "execution_count": 2,
      "metadata": {
        "id": "lSvc3yX9etkJ"
      },
      "outputs": [],
      "source": [
        "# 1. What word is \"King-Man + Woman\" closest to between (girl, queen, princess, daughter, mother)\n",
        "\n",
        "\n",
        "# 2. Tesla:Car as Apple:? Choices: (fruit, vegetable, gas)\n",
        "\n",
        "\n"
      ]
    },
    {
      "cell_type": "markdown",
      "metadata": {
        "id": "wX6jEFiyeSz5"
      },
      "source": [
        "## 4. Plots\n",
        "\n",
        "Plot the search results as a pie chart with percentages allocated to the likelihood of the category being related to the search input"
      ]
    },
    {
      "cell_type": "code",
      "execution_count": null,
      "metadata": {
        "id": "m0spQHVgdijb"
      },
      "outputs": [],
      "source": [
        "def plot_pie_chart(category_simiarity_scores):\n",
        "  pass\n"
      ]
    },
    {
      "cell_type": "markdown",
      "metadata": {
        "id": "suqashxJgEG9"
      },
      "source": [
        "## 5. Test\n",
        "\n",
        "Test your pie chart against some of the examples as below.\n",
        "\n",
        "a) Do the results make sense?\n",
        "b) Which embedding gives more meaningful results?\n"
      ]
    },
    {
      "cell_type": "code",
      "execution_count": null,
      "metadata": {
        "id": "9KjXULYiie1v"
      },
      "outputs": [],
      "source": [
        "input_sentence = \"Roses are red, trucks are blue, and Seattle is grey right now\"\n",
        "categories = \"Flowers Colors Cars Weather Food\"\n",
        "\n",
        "# Your code here\n",
        "search_instance = Search()\n",
        "category_similarity_scores = search_instance.get_topK_similar_categories(input_sentence, categories)\n",
        "\n",
        "plot_pie_chart(category_similarity_scores) # Plot and see"
      ]
    },
    {
      "cell_type": "markdown",
      "metadata": {
        "id": "Vj2Gv_EdiE8n"
      },
      "source": [
        "## 6. Bonus (if time permits)!\n",
        "Create a simple streamlit or equivalent webapp like the link in 5.\n",
        "This is also part of your Mini-Project 1!"
      ]
    },
    {
      "cell_type": "code",
      "execution_count": null,
      "metadata": {
        "id": "ugmuNVV_fwJI"
      },
      "outputs": [],
      "source": []
    }
  ],
  "metadata": {
    "colab": {
      "provenance": []
    },
    "kernelspec": {
      "display_name": "Python 3",
      "name": "python3"
    },
    "language_info": {
      "codemirror_mode": {
        "name": "ipython",
        "version": 3
      },
      "file_extension": ".py",
      "mimetype": "text/x-python",
      "name": "python",
      "nbconvert_exporter": "python",
      "pygments_lexer": "ipython3",
      "version": "3.9.6"
    }
  },
  "nbformat": 4,
  "nbformat_minor": 0
}
